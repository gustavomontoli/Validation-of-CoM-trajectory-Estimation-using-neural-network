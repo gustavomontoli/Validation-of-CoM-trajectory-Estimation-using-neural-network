{
 "cells": [
  {
   "cell_type": "markdown",
   "metadata": {},
   "source": [
    "# Algoritmo para separar os dados do movimento desejado, utilizando os dados do vídeo com os dados de MoCap que foram sincronizados"
   ]
  },
  {
   "cell_type": "markdown",
   "metadata": {},
   "source": [
    "--> Bibliotecas necessárias para esta etapa"
   ]
  },
  {
   "cell_type": "code",
   "execution_count": 1,
   "metadata": {},
   "outputs": [],
   "source": [
    "import os\n",
    "import collections\n",
    "import re\n",
    "import cv2\n",
    "\n",
    "import numpy as np\n",
    "import pandas as pd\n",
    "import math\n",
    "import matplotlib.pyplot as plt\n",
    "import scipy.io as sio\n",
    "import scipy.signal as signal\n",
    "from pathlib import Path\n",
    "from sources_cv2 import defineStartEnd, count_frames\n",
    "\n",
    "from utils import *\n",
    "%load_ext autoreload\n",
    "%autoreload 2\n",
    "%matplotlib inline"
   ]
  },
  {
   "cell_type": "code",
   "execution_count": 2,
   "metadata": {},
   "outputs": [],
   "source": [
    "# Caminho onde estão os dados .mat\n",
    "caminho = r'C:\\\\Users\\\\gusta\\\\OneDrive\\\\Documentos\\\\Users\\\\Gustavo Monteiro\\\\Documents\\\\GitHub\\\\MoVi-Toolbox\\\\MoCap\\\\'"
   ]
  },
  {
   "cell_type": "markdown",
   "metadata": {},
   "source": [
    "# Escolha do voluntário"
   ]
  },
  {
   "cell_type": "code",
   "execution_count": 3,
   "metadata": {},
   "outputs": [],
   "source": [
    "# Número do arquivo do voluntário, alterar apenas o número\n",
    "\n",
    "''' Alterar o número do sujeito analisado'''\n",
    "\n",
    "voluntary = 15"
   ]
  },
  {
   "cell_type": "code",
   "execution_count": 4,
   "metadata": {},
   "outputs": [],
   "source": [
    "voluntary = str(voluntary)\n",
    "v3d_filename = caminho + 'F_v3d_Subject_' + voluntary + '.mat'"
   ]
  },
  {
   "cell_type": "markdown",
   "metadata": {},
   "source": [
    "# Escolher a chave"
   ]
  },
  {
   "cell_type": "code",
   "execution_count": 5,
   "metadata": {},
   "outputs": [
    {
     "data": {
      "text/plain": [
       "dict_keys(['id', 'subject', 'move'])"
      ]
     },
     "execution_count": 5,
     "metadata": {},
     "output_type": "execute_result"
    }
   ],
   "source": [
    "# Reading MoVi files as a Python dictionary\n",
    "sample = mat2dict(v3d_filename)\n",
    "sample.keys()"
   ]
  },
  {
   "cell_type": "code",
   "execution_count": 6,
   "metadata": {},
   "outputs": [
    {
     "name": "stdout",
     "output_type": "stream",
     "text": [
      "\tKey: id\n",
      "\tKey: subject\n",
      "\t\tKey: id\n",
      "\t\tKey: sex\n",
      "\t\tKey: handedness\n",
      "\t\tKey: height\n",
      "\t\tKey: mass\n",
      "\t\tKey: age\n",
      "\tKey: move\n",
      "\t\tKey: description\n",
      "\t\tKey: markerName\n",
      "\t\tKey: markerType\n",
      "\t\tKey: markerDescription\n",
      "\t\tKey: markerSide\n",
      "\t\tKey: markerMatch\n",
      "\t\tKey: segmentName\n",
      "\t\tKey: segmentType\n",
      "\t\tKey: segmentDescription\n",
      "\t\tKey: segmentSide\n",
      "\t\tKey: segmentMatch\n",
      "\t\tKey: segmentParent\n",
      "\t\tKey: physicalMarkers\n",
      "\t\tKey: virtualMarkers\n",
      "\t\tKey: lcData\n",
      "\t\tKey: flags30\n",
      "\t\tKey: flags120\n",
      "\t\tKey: motions_list\n",
      "\t\tKey: markerGaps\n",
      "\t\tKey: virtualMarkerParent\n",
      "\t\tKey: markerLocation\n",
      "\t\tKey: virtualMarkerLocation\n",
      "\t\tKey: jointsAffine_v3d\n",
      "\t\tKey: jointsTranslation_v3d\n",
      "\t\tKey: jointsExpMaps_v3d\n",
      "\t\tKey: jointsGaps_v3d\n"
     ]
    }
   ],
   "source": [
    "# Printing the dictionary keys in a tree style\n",
    "pretty_dict(sample, print_type=False, indent=1)"
   ]
  },
  {
   "cell_type": "code",
   "execution_count": 7,
   "metadata": {},
   "outputs": [
    {
     "name": "stdout",
     "output_type": "stream",
     "text": [
      "Key: description\n",
      "Key: markerName\n",
      "Key: markerType\n",
      "Key: markerDescription\n",
      "Key: markerSide\n",
      "Key: markerMatch\n",
      "Key: segmentName\n",
      "Key: segmentType\n",
      "Key: segmentDescription\n",
      "Key: segmentSide\n",
      "Key: segmentMatch\n",
      "Key: segmentParent\n",
      "Key: physicalMarkers\n",
      "Key: virtualMarkers\n",
      "Key: lcData\n",
      "Key: flags30\n",
      "Key: flags120\n",
      "Key: motions_list\n",
      "Key: markerGaps\n",
      "Key: virtualMarkerParent\n",
      "Key: markerLocation\n",
      "Key: virtualMarkerLocation\n",
      "Key: jointsAffine_v3d\n",
      "Key: jointsTranslation_v3d\n",
      "Key: jointsExpMaps_v3d\n",
      "Key: jointsGaps_v3d\n"
     ]
    }
   ],
   "source": [
    "# First move sample\n",
    "move = sample['move']\n",
    "pretty_dict(move)"
   ]
  },
  {
   "cell_type": "code",
   "execution_count": 8,
   "metadata": {},
   "outputs": [],
   "source": [
    "move =dict2ntuple(move)\n",
    "# print(move.virtualMarkerLocation)"
   ]
  },
  {
   "cell_type": "markdown",
   "metadata": {},
   "source": [
    "--> Carregue os dados do código anterior que calcula o centro de massa do corpo todo para todos os frames."
   ]
  },
  {
   "cell_type": "code",
   "execution_count": 9,
   "metadata": {},
   "outputs": [],
   "source": [
    "array = np.load('Whole body CoM data.npy')"
   ]
  },
  {
   "cell_type": "markdown",
   "metadata": {},
   "source": [
    "--> Criar o dataframe"
   ]
  },
  {
   "cell_type": "code",
   "execution_count": 10,
   "metadata": {},
   "outputs": [
    {
     "data": {
      "text/html": [
       "<div>\n",
       "<style scoped>\n",
       "    .dataframe tbody tr th:only-of-type {\n",
       "        vertical-align: middle;\n",
       "    }\n",
       "\n",
       "    .dataframe tbody tr th {\n",
       "        vertical-align: top;\n",
       "    }\n",
       "\n",
       "    .dataframe thead th {\n",
       "        text-align: right;\n",
       "    }\n",
       "</style>\n",
       "<table border=\"1\" class=\"dataframe\">\n",
       "  <thead>\n",
       "    <tr style=\"text-align: right;\">\n",
       "      <th></th>\n",
       "      <th>X</th>\n",
       "      <th>Y</th>\n",
       "    </tr>\n",
       "  </thead>\n",
       "  <tbody>\n",
       "    <tr>\n",
       "      <th>0</th>\n",
       "      <td>18.929139</td>\n",
       "      <td>986.508717</td>\n",
       "    </tr>\n",
       "    <tr>\n",
       "      <th>1</th>\n",
       "      <td>18.938636</td>\n",
       "      <td>986.511618</td>\n",
       "    </tr>\n",
       "    <tr>\n",
       "      <th>2</th>\n",
       "      <td>18.950765</td>\n",
       "      <td>986.516038</td>\n",
       "    </tr>\n",
       "    <tr>\n",
       "      <th>3</th>\n",
       "      <td>19.017671</td>\n",
       "      <td>986.494681</td>\n",
       "    </tr>\n",
       "    <tr>\n",
       "      <th>4</th>\n",
       "      <td>19.000997</td>\n",
       "      <td>986.499087</td>\n",
       "    </tr>\n",
       "    <tr>\n",
       "      <th>...</th>\n",
       "      <td>...</td>\n",
       "      <td>...</td>\n",
       "    </tr>\n",
       "    <tr>\n",
       "      <th>17841</th>\n",
       "      <td>46.894255</td>\n",
       "      <td>939.087568</td>\n",
       "    </tr>\n",
       "    <tr>\n",
       "      <th>17842</th>\n",
       "      <td>46.896500</td>\n",
       "      <td>939.094325</td>\n",
       "    </tr>\n",
       "    <tr>\n",
       "      <th>17843</th>\n",
       "      <td>46.874120</td>\n",
       "      <td>939.095647</td>\n",
       "    </tr>\n",
       "    <tr>\n",
       "      <th>17844</th>\n",
       "      <td>46.877768</td>\n",
       "      <td>939.117538</td>\n",
       "    </tr>\n",
       "    <tr>\n",
       "      <th>17845</th>\n",
       "      <td>46.879394</td>\n",
       "      <td>939.137895</td>\n",
       "    </tr>\n",
       "  </tbody>\n",
       "</table>\n",
       "<p>17846 rows × 2 columns</p>\n",
       "</div>"
      ],
      "text/plain": [
       "               X           Y\n",
       "0      18.929139  986.508717\n",
       "1      18.938636  986.511618\n",
       "2      18.950765  986.516038\n",
       "3      19.017671  986.494681\n",
       "4      19.000997  986.499087\n",
       "...          ...         ...\n",
       "17841  46.894255  939.087568\n",
       "17842  46.896500  939.094325\n",
       "17843  46.874120  939.095647\n",
       "17844  46.877768  939.117538\n",
       "17845  46.879394  939.137895\n",
       "\n",
       "[17846 rows x 2 columns]"
      ]
     },
     "execution_count": 10,
     "metadata": {},
     "output_type": "execute_result"
    }
   ],
   "source": [
    "Data = array\n",
    "name_description = move.motions_list\n",
    "data_complete = pd.DataFrame(Data,\n",
    "                           columns = ['X', 'Y'])\n",
    "data_complete"
   ]
  },
  {
   "cell_type": "markdown",
   "metadata": {},
   "source": [
    "# Separando apenas os dados do movimento de caminhar de um lado ao outro"
   ]
  },
  {
   "cell_type": "code",
   "execution_count": 11,
   "metadata": {},
   "outputs": [],
   "source": [
    "video_path = r'C:\\\\Users\\\\gusta\\\\OneDrive\\\\Documentos\\\\Users\\\\Gustavo Monteiro\\\\Documents\\\\GitHub\\\\MoVi-Toolbox\\\\MoCap\\\\'\n",
    "\n",
    "video_F = 'F'"
   ]
  },
  {
   "cell_type": "code",
   "execution_count": 12,
   "metadata": {},
   "outputs": [],
   "source": [
    "# Frequencia dos dados\n",
    "\n",
    "video_name = video_path + video_F + '_PG1_Subject_' + voluntary + '_L.avi'\n",
    "\n",
    "freq_MoCap = 120\n",
    "n_frames, fps = count_frames(video_name)"
   ]
  },
  {
   "cell_type": "markdown",
   "metadata": {},
   "source": [
    "# Escolher o tempo de início aproximado para o movimento de andar de um lado ao outro"
   ]
  },
  {
   "cell_type": "code",
   "execution_count": 13,
   "metadata": {},
   "outputs": [
    {
     "name": "stdout",
     "output_type": "stream",
     "text": [
      "Utilizar o vídeo com o seguinte nome:  F_PG1_Subject_15_L.avi\n"
     ]
    }
   ],
   "source": [
    "print('Utilizar o vídeo com o seguinte nome: ', video_F + '_PG1_Subject_' + voluntary + '_L.avi' )"
   ]
  },
  {
   "cell_type": "markdown",
   "metadata": {},
   "source": [
    "--> Estabeleça o minuto e segundos exatos do início do trecho do vídeo que você busca."
   ]
  },
  {
   "cell_type": "code",
   "execution_count": 14,
   "metadata": {},
   "outputs": [],
   "source": [
    "# alterar o minuto do vídeo para o movimento\n",
    "min_init_video = 1\n",
    "# alterar o segundo do vídeo para o movimento \n",
    "seg_init_video = 55\n",
    "\n",
    "aprox_init_video = int(((min_init_video * 60) + seg_init_video) * fps)"
   ]
  },
  {
   "cell_type": "markdown",
   "metadata": {},
   "source": [
    "--> Estabeleça manualmente o trecho do vídeo que deseja coletar. Aperte a tecla D repetidas vezes para os frames do vídeo irem para frente e A para recuarem. "
   ]
  },
  {
   "cell_type": "markdown",
   "metadata": {},
   "source": [
    "--> Após chegar no frame de início que você deseja, aperte Enter e após chegar no frame final, aperte Enter novamente."
   ]
  },
  {
   "cell_type": "code",
   "execution_count": 19,
   "metadata": {},
   "outputs": [
    {
     "name": "stdout",
     "output_type": "stream",
     "text": [
      "[3466, 0]\n",
      "[3466, 3504]\n"
     ]
    }
   ],
   "source": [
    "start_end = defineStartEnd(video_name, n_frames, aprox_init_video)"
   ]
  },
  {
   "cell_type": "markdown",
   "metadata": {},
   "source": [
    "--> Rode o bloco de código seguinte para converter para a frequência de dados do sistema mocap (120 Hz) e cria o arquivo com esses dados separados."
   ]
  },
  {
   "cell_type": "code",
   "execution_count": 23,
   "metadata": {},
   "outputs": [
    {
     "data": {
      "text/html": [
       "<div>\n",
       "<style scoped>\n",
       "    .dataframe tbody tr th:only-of-type {\n",
       "        vertical-align: middle;\n",
       "    }\n",
       "\n",
       "    .dataframe tbody tr th {\n",
       "        vertical-align: top;\n",
       "    }\n",
       "\n",
       "    .dataframe thead th {\n",
       "        text-align: right;\n",
       "    }\n",
       "</style>\n",
       "<table border=\"1\" class=\"dataframe\">\n",
       "  <thead>\n",
       "    <tr style=\"text-align: right;\">\n",
       "      <th></th>\n",
       "      <th>X</th>\n",
       "      <th>Y</th>\n",
       "    </tr>\n",
       "  </thead>\n",
       "  <tbody>\n",
       "    <tr>\n",
       "      <th>13864</th>\n",
       "      <td>977.471806</td>\n",
       "      <td>912.392612</td>\n",
       "    </tr>\n",
       "    <tr>\n",
       "      <th>13865</th>\n",
       "      <td>968.700176</td>\n",
       "      <td>911.827323</td>\n",
       "    </tr>\n",
       "    <tr>\n",
       "      <th>13866</th>\n",
       "      <td>959.899099</td>\n",
       "      <td>911.299103</td>\n",
       "    </tr>\n",
       "    <tr>\n",
       "      <th>13867</th>\n",
       "      <td>950.833143</td>\n",
       "      <td>911.069982</td>\n",
       "    </tr>\n",
       "    <tr>\n",
       "      <th>13868</th>\n",
       "      <td>941.732116</td>\n",
       "      <td>911.147434</td>\n",
       "    </tr>\n",
       "    <tr>\n",
       "      <th>...</th>\n",
       "      <td>...</td>\n",
       "      <td>...</td>\n",
       "    </tr>\n",
       "    <tr>\n",
       "      <th>14012</th>\n",
       "      <td>-385.008500</td>\n",
       "      <td>912.643580</td>\n",
       "    </tr>\n",
       "    <tr>\n",
       "      <th>14013</th>\n",
       "      <td>-394.356797</td>\n",
       "      <td>913.402616</td>\n",
       "    </tr>\n",
       "    <tr>\n",
       "      <th>14014</th>\n",
       "      <td>-403.671890</td>\n",
       "      <td>914.516424</td>\n",
       "    </tr>\n",
       "    <tr>\n",
       "      <th>14015</th>\n",
       "      <td>-413.226645</td>\n",
       "      <td>915.680980</td>\n",
       "    </tr>\n",
       "    <tr>\n",
       "      <th>14016</th>\n",
       "      <td>-422.598443</td>\n",
       "      <td>917.108410</td>\n",
       "    </tr>\n",
       "  </tbody>\n",
       "</table>\n",
       "<p>153 rows × 2 columns</p>\n",
       "</div>"
      ],
      "text/plain": [
       "                X           Y\n",
       "13864  977.471806  912.392612\n",
       "13865  968.700176  911.827323\n",
       "13866  959.899099  911.299103\n",
       "13867  950.833143  911.069982\n",
       "13868  941.732116  911.147434\n",
       "...           ...         ...\n",
       "14012 -385.008500  912.643580\n",
       "14013 -394.356797  913.402616\n",
       "14014 -403.671890  914.516424\n",
       "14015 -413.226645  915.680980\n",
       "14016 -422.598443  917.108410\n",
       "\n",
       "[153 rows x 2 columns]"
      ]
     },
     "execution_count": 23,
     "metadata": {},
     "output_type": "execute_result"
    }
   ],
   "source": [
    "# frame de início e final do movimento\n",
    "frame_start = start_end[0]\n",
    "frame_end = start_end[1]\n",
    "\n",
    "# converter o frame do vídeo do início do movimento para o dado de Mocap correspondente \n",
    "temp_start = frame_start / fps\n",
    "MOCAP_start = int(temp_start * freq_MoCap)\n",
    "\n",
    "# converter o frame do vídeo do final do movimento para o dado de Mocap correspondente \n",
    "temp_end = frame_end / fps\n",
    "MOCAP_end = int(temp_end * freq_MoCap)\n",
    "\n",
    "# criando os dados apenas com as informações \n",
    "data_gait = data_complete.iloc[MOCAP_start:MOCAP_end + 1,:]\n",
    "len(data_gait)\n",
    "data_gait"
   ]
  },
  {
   "cell_type": "code",
   "execution_count": 24,
   "metadata": {},
   "outputs": [],
   "source": [
    "np.save('MoCap CoM gait', data_gait)"
   ]
  }
 ],
 "metadata": {
  "kernelspec": {
   "display_name": "Python 3",
   "language": "python",
   "name": "python3"
  },
  "language_info": {
   "codemirror_mode": {
    "name": "ipython",
    "version": 3
   },
   "file_extension": ".py",
   "mimetype": "text/x-python",
   "name": "python",
   "nbconvert_exporter": "python",
   "pygments_lexer": "ipython3",
   "version": "3.8.8"
  }
 },
 "nbformat": 4,
 "nbformat_minor": 4
}
