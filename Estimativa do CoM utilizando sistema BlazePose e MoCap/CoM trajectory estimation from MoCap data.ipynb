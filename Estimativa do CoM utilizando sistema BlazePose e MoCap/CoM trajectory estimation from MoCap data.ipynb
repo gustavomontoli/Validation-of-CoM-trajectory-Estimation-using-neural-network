{
 "cells": [
  {
   "cell_type": "markdown",
   "metadata": {},
   "source": [
    "# Estimativa da trajetória do CoM a partir de dados de MoCap já extraídos da base de dados MoVi"
   ]
  },
  {
   "cell_type": "markdown",
   "metadata": {},
   "source": [
    "--> Bibliotecas necessárias para esta etapa."
   ]
  },
  {
   "cell_type": "code",
   "execution_count": 2,
   "metadata": {},
   "outputs": [],
   "source": [
    "import cv2\n",
    "import numpy as np\n",
    "from numpy import asarray\n",
    "from numpy import save\n",
    "import pandas as pd\n",
    "import matplotlib.pyplot as plt\n",
    "import seaborn; seaborn.set()"
   ]
  },
  {
   "cell_type": "markdown",
   "metadata": {},
   "source": [
    "--> Abaixo, carregue o seu arquivo numpy contendo o array com os dados de posição 2D do MoCap"
   ]
  },
  {
   "cell_type": "code",
   "execution_count": 3,
   "metadata": {},
   "outputs": [],
   "source": [
    "array = np.load('Sensor data.npy')"
   ]
  },
  {
   "cell_type": "markdown",
   "metadata": {},
   "source": [
    "--> Armazene a posição das coordenadas das articulações necessárias para o cálculo do centro de massa dos segmentos corporais e do corpo todo."
   ]
  },
  {
   "cell_type": "code",
   "execution_count": 4,
   "metadata": {},
   "outputs": [],
   "source": [
    "# Storing the position coordinates (x,y) of the joints needed for the segments\n",
    "# and whole body CoM calculation\n",
    "\n",
    "# Foot \n",
    "left_ankle_joint = array[:,71, :]\n",
    "right_ankle_joint = array[:,79,:]\n",
    "left_foot_joint = array[:,78, :]\n",
    "right_foot_joint = array[:,86,:]\n",
    "\n",
    "# Leg \n",
    "left_knee_joint = array[:,75, :]\n",
    "right_knee_joint = array[:,83,:]\n",
    "left_ankle_joint = array[:,71, :]\n",
    "right_ankle_joint = array[:,79,:]\n",
    "\n",
    "# Thigh\n",
    "left_hip_joint = array[:,73, :]\n",
    "right_hip_joint = array[:,81,:]\n",
    "left_knee_joint = array[:,75, :]\n",
    "right_knee_joint = array[:,83,:]\n",
    "\n",
    "# Trunk\n",
    "left_shoulder_joint = array[:,76, :]\n",
    "right_shoulder_joint = array[:,84,:]\n",
    "left_hip_joint = array[:,73, :]\n",
    "right_hip_joint = array[:,81,:]\n",
    "\n",
    "# Hands\n",
    "left_wrist_joint = array[:,77, :]\n",
    "right_wrist_joint = array[:,85,:]\n",
    "left_hand_joint = array[:,74, :]\n",
    "right_hand_joint = array[:,82,:]\n",
    "\n",
    "# Upper Arm\n",
    "left_shoulder_joint = array[:,76, :]\n",
    "right_shoulder_joint = array[:,84,:]\n",
    "left_elbow_joint = array[:,72, :]\n",
    "right_elbow_joint = array[:,80,:]\n",
    "\n",
    "# Fore Arm\n",
    "left_elbow_joint = array[:,72, :]\n",
    "right_elbow_joint = array[:,80,:]\n",
    "left_wrist_joint = array[:,77, :]\n",
    "right_wrist_joint = array[:,85,:]"
   ]
  },
  {
   "cell_type": "markdown",
   "metadata": {},
   "source": [
    "--> Calcular o CoM de cada segmento"
   ]
  },
  {
   "cell_type": "code",
   "execution_count": 5,
   "metadata": {},
   "outputs": [],
   "source": [
    "# Calculate each segment´s CoM\n",
    "\n",
    "# Left Foot CoM\n",
    "xleftfootcom = (left_ankle_joint[:,0] + left_foot_joint[:,0])*0.5\n",
    "yleftfootcom = (left_ankle_joint[:,1] + left_foot_joint[:,1])*0.5\n",
    "\n",
    "# Right Foot CoM\n",
    "xrightfootcom = (right_ankle_joint[:,0] + right_foot_joint[:,0])*0.5\n",
    "yrightfootcom = (right_ankle_joint[:,1] + right_foot_joint[:,1])*0.5\n",
    "\n",
    "# Left Leg CoM\n",
    "xleftlegcom = left_knee_joint[:,0] + 0.433*(left_ankle_joint[:,0]-left_knee_joint[:,0])\n",
    "yleftlegcom = left_knee_joint[:,1] - 0.433*(left_knee_joint[:,1]-left_ankle_joint[:,1])\n",
    "\n",
    "# Right Leg CoM\n",
    "xrightlegcom = right_knee_joint[:,0] + 0.433*(right_ankle_joint[:,0]-right_knee_joint[:,0])\n",
    "yrightlegcom = right_knee_joint[:,1] - 0.433*(right_knee_joint[:,1]-right_ankle_joint[:,1])\n",
    "\n",
    "# Left Thigh CoM\n",
    "xleftthighcom = left_hip_joint[:,0] + 0.433*(left_knee_joint[:,0]-left_hip_joint[:,0])\n",
    "yleftthighcom = left_hip_joint[:,1] - 0.433*(left_hip_joint[:,1]-left_knee_joint[:,1])\n",
    "\n",
    "# Right Thigh CoM\n",
    "xrightthighcom = right_hip_joint[:,0] + 0.433*(right_knee_joint[:,0]-right_hip_joint[:,0])\n",
    "yrightthighcom = right_hip_joint[:,1] - 0.433*(right_hip_joint[:,1]-right_knee_joint[:,1])\n",
    "\n",
    "# Trunk CoM\n",
    "xtrunkcom = (left_shoulder_joint[:,0] + right_shoulder_joint[:,0])*0.5 - 0.66 * ((left_shoulder_joint[:,0] + right_shoulder_joint[:,0])*0.5 - (left_hip_joint[:,0] + right_hip_joint[:,0])*0.5)\n",
    "ytrunkcom = (left_shoulder_joint[:,1] + right_shoulder_joint[:,1])*0.5 - 0.66 * ((left_shoulder_joint[:,1] + right_shoulder_joint[:,1])*0.5 - (left_hip_joint[:,1] + right_hip_joint[:,1])*0.5)\n",
    "\n",
    "# Left hand CoM\n",
    "xlefthandcom =  left_wrist_joint[:,0] + 0.506*(left_hand_joint[:,0] - left_wrist_joint[:,0])\n",
    "ylefthandcom =  left_wrist_joint[:,1] - 0.506*(left_wrist_joint[:,1] - left_hand_joint[:,1])\n",
    "\n",
    "# Right hand CoM\n",
    "xrighthandcom =  right_wrist_joint[:,0] + 0.506*(right_hand_joint[:,0] - right_wrist_joint[:,0])\n",
    "yrighthandcom =  right_wrist_joint[:,1] - 0.506*(right_wrist_joint[:,1] - right_hand_joint[:,1])\n",
    "\n",
    "# Left Upper Arm CoM\n",
    "xleftupperarm = left_shoulder_joint[:,0] + 0.436 * (left_elbow_joint[:,0] - left_shoulder_joint[:,0])\n",
    "yleftupperarm = left_shoulder_joint[:,1] - 0.436 * (left_shoulder_joint[:,1] - left_elbow_joint[:,1])\n",
    "\n",
    "# Right Upper Arm CoM\n",
    "xrightupperarm = right_shoulder_joint[:,0] + 0.436 * (right_elbow_joint[:,0] - right_shoulder_joint[:,0])\n",
    "yrightupperarm = right_shoulder_joint[:,1] - 0.436 * (right_shoulder_joint[:,1] - right_elbow_joint[:,1])\n",
    "\n",
    "# Left Fore Arm CoM\n",
    "xleftforearm = left_elbow_joint[:,0] + 0.430 * (left_wrist_joint[:,0] - left_elbow_joint[:,0])\n",
    "yleftforearm = left_elbow_joint[:,1] - 0.430 * (left_elbow_joint[:,1] - left_wrist_joint[:,1])\n",
    "\n",
    "# Right Fore Arm CoM\n",
    "xrightforearm = right_elbow_joint[:,0] + 0.430 * (right_wrist_joint[:,0] - right_elbow_joint[:,0])\n",
    "yrightforearm = right_elbow_joint[:,1] - 0.430 * (right_elbow_joint[:,1] - right_wrist_joint[:,1])"
   ]
  },
  {
   "cell_type": "markdown",
   "metadata": {},
   "source": [
    "--> Calcular o Com do corpo todo"
   ]
  },
  {
   "cell_type": "code",
   "execution_count": 6,
   "metadata": {},
   "outputs": [],
   "source": [
    "# Calculate the whole body CoM\n",
    "\n",
    "body_com_x = 0.0145 * (xleftfootcom + xrightfootcom) + 0.0465 * (xleftlegcom + xrightlegcom) + 0.1 * (xleftthighcom + xrightthighcom) + 0.578 * xtrunkcom + 0.006 * (xlefthandcom + xrighthandcom) + 0.028 * (xleftupperarm + xrightupperarm) + 0.016 * (xleftforearm + xrightforearm)\n",
    "body_com_y = 0.0145 * (yleftfootcom + yrightfootcom) + 0.0465 * (yleftlegcom + yrightlegcom) + 0.1 * (yleftthighcom + yrightthighcom) + 0.578 * ytrunkcom + 0.006 * (ylefthandcom + yrighthandcom) + 0.028 * (yleftupperarm + yrightupperarm) + 0.016 * (yleftforearm + yrightforearm)\n"
   ]
  },
  {
   "cell_type": "markdown",
   "metadata": {},
   "source": [
    "## CoM do corpo todo para todos os frames do vídeo"
   ]
  },
  {
   "cell_type": "markdown",
   "metadata": {},
   "source": [
    "--> Armazenar e apresentar os valores das coordenadas do CoM em um array 2d"
   ]
  },
  {
   "cell_type": "code",
   "execution_count": 7,
   "metadata": {},
   "outputs": [
    {
     "data": {
      "text/plain": [
       "array([[ 18.92913911,  18.93863617,  18.95076492, ...,  46.87412013,\n",
       "         46.87776807,  46.87939416],\n",
       "       [986.50871713, 986.51161817, 986.516038  , ..., 939.09564668,\n",
       "        939.11753844, 939.13789529]])"
      ]
     },
     "execution_count": 7,
     "metadata": {},
     "output_type": "execute_result"
    }
   ],
   "source": [
    "# Build a 2-d array to insert the values obtained for the x and y coordinates of the whole body´s CoM\n",
    "# in each frame\n",
    "\n",
    "bodycoms = np.array([body_com_x, body_com_y])\n",
    "bodycoms"
   ]
  },
  {
   "cell_type": "markdown",
   "metadata": {},
   "source": [
    "--> Criar um tabela do tipo dataframe, em que as linhas representam as coordenadas do CoM e as colunas o número de frames, também chamados de sheets na tabela, iniciando do frame 0 do vídeo."
   ]
  },
  {
   "cell_type": "code",
   "execution_count": 8,
   "metadata": {},
   "outputs": [
    {
     "data": {
      "text/html": [
       "<div>\n",
       "<style scoped>\n",
       "    .dataframe tbody tr th:only-of-type {\n",
       "        vertical-align: middle;\n",
       "    }\n",
       "\n",
       "    .dataframe tbody tr th {\n",
       "        vertical-align: top;\n",
       "    }\n",
       "\n",
       "    .dataframe thead th {\n",
       "        text-align: right;\n",
       "    }\n",
       "</style>\n",
       "<table border=\"1\" class=\"dataframe\">\n",
       "  <thead>\n",
       "    <tr style=\"text-align: right;\">\n",
       "      <th></th>\n",
       "      <th>0</th>\n",
       "      <th>1</th>\n",
       "      <th>2</th>\n",
       "      <th>3</th>\n",
       "      <th>4</th>\n",
       "      <th>5</th>\n",
       "      <th>6</th>\n",
       "      <th>7</th>\n",
       "      <th>8</th>\n",
       "      <th>9</th>\n",
       "      <th>...</th>\n",
       "      <th>17836</th>\n",
       "      <th>17837</th>\n",
       "      <th>17838</th>\n",
       "      <th>17839</th>\n",
       "      <th>17840</th>\n",
       "      <th>17841</th>\n",
       "      <th>17842</th>\n",
       "      <th>17843</th>\n",
       "      <th>17844</th>\n",
       "      <th>17845</th>\n",
       "    </tr>\n",
       "  </thead>\n",
       "  <tbody>\n",
       "    <tr>\n",
       "      <th>X</th>\n",
       "      <td>18.929139</td>\n",
       "      <td>18.938636</td>\n",
       "      <td>18.950765</td>\n",
       "      <td>19.017671</td>\n",
       "      <td>19.000997</td>\n",
       "      <td>19.014016</td>\n",
       "      <td>19.018513</td>\n",
       "      <td>19.021733</td>\n",
       "      <td>19.002233</td>\n",
       "      <td>19.000525</td>\n",
       "      <td>...</td>\n",
       "      <td>46.877351</td>\n",
       "      <td>46.878374</td>\n",
       "      <td>46.873642</td>\n",
       "      <td>46.886444</td>\n",
       "      <td>46.896437</td>\n",
       "      <td>46.894255</td>\n",
       "      <td>46.896500</td>\n",
       "      <td>46.874120</td>\n",
       "      <td>46.877768</td>\n",
       "      <td>46.879394</td>\n",
       "    </tr>\n",
       "    <tr>\n",
       "      <th>Y</th>\n",
       "      <td>986.508717</td>\n",
       "      <td>986.511618</td>\n",
       "      <td>986.516038</td>\n",
       "      <td>986.494681</td>\n",
       "      <td>986.499087</td>\n",
       "      <td>986.506965</td>\n",
       "      <td>986.512959</td>\n",
       "      <td>986.521327</td>\n",
       "      <td>986.518595</td>\n",
       "      <td>986.501900</td>\n",
       "      <td>...</td>\n",
       "      <td>939.099427</td>\n",
       "      <td>939.088893</td>\n",
       "      <td>939.088053</td>\n",
       "      <td>939.086121</td>\n",
       "      <td>939.090073</td>\n",
       "      <td>939.087568</td>\n",
       "      <td>939.094325</td>\n",
       "      <td>939.095647</td>\n",
       "      <td>939.117538</td>\n",
       "      <td>939.137895</td>\n",
       "    </tr>\n",
       "  </tbody>\n",
       "</table>\n",
       "<p>2 rows × 17846 columns</p>\n",
       "</div>"
      ],
      "text/plain": [
       "        0           1           2           3           4           5      \\\n",
       "X   18.929139   18.938636   18.950765   19.017671   19.000997   19.014016   \n",
       "Y  986.508717  986.511618  986.516038  986.494681  986.499087  986.506965   \n",
       "\n",
       "        6           7           8           9      ...       17836  \\\n",
       "X   19.018513   19.021733   19.002233   19.000525  ...   46.877351   \n",
       "Y  986.512959  986.521327  986.518595  986.501900  ...  939.099427   \n",
       "\n",
       "        17837       17838       17839       17840       17841       17842  \\\n",
       "X   46.878374   46.873642   46.886444   46.896437   46.894255   46.896500   \n",
       "Y  939.088893  939.088053  939.086121  939.090073  939.087568  939.094325   \n",
       "\n",
       "        17843       17844       17845  \n",
       "X   46.874120   46.877768   46.879394  \n",
       "Y  939.095647  939.117538  939.137895  \n",
       "\n",
       "[2 rows x 17846 columns]"
      ]
     },
     "execution_count": 8,
     "metadata": {},
     "output_type": "execute_result"
    }
   ],
   "source": [
    "# Create the dataframe table (rows are the coordinates and columns are the frames/sheets starting from 0)\n",
    "\n",
    "df = pd.DataFrame(bodycoms,\n",
    "                 index=['X', 'Y'])\n",
    "df"
   ]
  },
  {
   "cell_type": "markdown",
   "metadata": {},
   "source": [
    "--> Inverta este dataframe para que a visualização fique melhor."
   ]
  },
  {
   "cell_type": "code",
   "execution_count": 11,
   "metadata": {},
   "outputs": [
    {
     "data": {
      "text/html": [
       "<div>\n",
       "<style scoped>\n",
       "    .dataframe tbody tr th:only-of-type {\n",
       "        vertical-align: middle;\n",
       "    }\n",
       "\n",
       "    .dataframe tbody tr th {\n",
       "        vertical-align: top;\n",
       "    }\n",
       "\n",
       "    .dataframe thead th {\n",
       "        text-align: right;\n",
       "    }\n",
       "</style>\n",
       "<table border=\"1\" class=\"dataframe\">\n",
       "  <thead>\n",
       "    <tr style=\"text-align: right;\">\n",
       "      <th></th>\n",
       "      <th>X</th>\n",
       "      <th>Y</th>\n",
       "    </tr>\n",
       "  </thead>\n",
       "  <tbody>\n",
       "    <tr>\n",
       "      <th>0</th>\n",
       "      <td>18.929139</td>\n",
       "      <td>986.508717</td>\n",
       "    </tr>\n",
       "    <tr>\n",
       "      <th>1</th>\n",
       "      <td>18.938636</td>\n",
       "      <td>986.511618</td>\n",
       "    </tr>\n",
       "    <tr>\n",
       "      <th>2</th>\n",
       "      <td>18.950765</td>\n",
       "      <td>986.516038</td>\n",
       "    </tr>\n",
       "    <tr>\n",
       "      <th>3</th>\n",
       "      <td>19.017671</td>\n",
       "      <td>986.494681</td>\n",
       "    </tr>\n",
       "    <tr>\n",
       "      <th>4</th>\n",
       "      <td>19.000997</td>\n",
       "      <td>986.499087</td>\n",
       "    </tr>\n",
       "    <tr>\n",
       "      <th>...</th>\n",
       "      <td>...</td>\n",
       "      <td>...</td>\n",
       "    </tr>\n",
       "    <tr>\n",
       "      <th>17841</th>\n",
       "      <td>46.894255</td>\n",
       "      <td>939.087568</td>\n",
       "    </tr>\n",
       "    <tr>\n",
       "      <th>17842</th>\n",
       "      <td>46.896500</td>\n",
       "      <td>939.094325</td>\n",
       "    </tr>\n",
       "    <tr>\n",
       "      <th>17843</th>\n",
       "      <td>46.874120</td>\n",
       "      <td>939.095647</td>\n",
       "    </tr>\n",
       "    <tr>\n",
       "      <th>17844</th>\n",
       "      <td>46.877768</td>\n",
       "      <td>939.117538</td>\n",
       "    </tr>\n",
       "    <tr>\n",
       "      <th>17845</th>\n",
       "      <td>46.879394</td>\n",
       "      <td>939.137895</td>\n",
       "    </tr>\n",
       "  </tbody>\n",
       "</table>\n",
       "<p>17846 rows × 2 columns</p>\n",
       "</div>"
      ],
      "text/plain": [
       "               X           Y\n",
       "0      18.929139  986.508717\n",
       "1      18.938636  986.511618\n",
       "2      18.950765  986.516038\n",
       "3      19.017671  986.494681\n",
       "4      19.000997  986.499087\n",
       "...          ...         ...\n",
       "17841  46.894255  939.087568\n",
       "17842  46.896500  939.094325\n",
       "17843  46.874120  939.095647\n",
       "17844  46.877768  939.117538\n",
       "17845  46.879394  939.137895\n",
       "\n",
       "[17846 rows x 2 columns]"
      ]
     },
     "execution_count": 11,
     "metadata": {},
     "output_type": "execute_result"
    }
   ],
   "source": [
    "# Converting rows into columns\n",
    "\n",
    "df_t = df.T\n",
    "df_t"
   ]
  },
  {
   "cell_type": "markdown",
   "metadata": {},
   "source": [
    "--> Plote o gráfico das coordenadas horizontal e vertical em relação ao número de frames, nos dois blocos seguintes."
   ]
  },
  {
   "cell_type": "code",
   "execution_count": 12,
   "metadata": {},
   "outputs": [
    {
     "data": {
      "text/plain": [
       "Text(0.5, 0, 'Number of frames')"
      ]
     },
     "execution_count": 12,
     "metadata": {},
     "output_type": "execute_result"
    },
    {
     "data": {
      "image/png": "[encoded data removed]",
      "text/plain": [
       "<Figure size 432x288 with 1 Axes>"
      ]
     },
     "metadata": {},
     "output_type": "display_data"
    }
   ],
   "source": [
    "# Simpler way to see the X and Y body CoM coordinates trajectory\n",
    "\n",
    "df_tX = df_t['X']\n",
    "df_tY = df_t['Y']\n",
    "\n",
    "# Plotting the X coord. of whole body´s CoM trajectory\n",
    "\n",
    "df_tX.plot(color='blue', alpha=1.0, style='-');\n",
    "plt.ylabel('Body´s CoM X coord.')\n",
    "plt.xlabel('Number of frames')"
   ]
  },
  {
   "cell_type": "code",
   "execution_count": 13,
   "metadata": {},
   "outputs": [
    {
     "data": {
      "text/plain": [
       "Text(0.5, 0, 'Number of frames')"
      ]
     },
     "execution_count": 13,
     "metadata": {},
     "output_type": "execute_result"
    },
    {
     "data": {
      "image/png": "[encoded data removed]",
      "text/plain": [
       "<Figure size 432x288 with 1 Axes>"
      ]
     },
     "metadata": {},
     "output_type": "display_data"
    }
   ],
   "source": [
    "# Plotting the Y coord. of whole body´s CoM trajectory\n",
    "\n",
    "df_tY.plot(color='blue', alpha=1.0, style='-');\n",
    "plt.ylabel('Body´s CoM Y coord.')\n",
    "plt.xlabel('Number of frames')"
   ]
  },
  {
   "cell_type": "markdown",
   "metadata": {},
   "source": [
    "--> Salve agora os dados da trajetória do CoM do indivíduo em toda a extensão do vídeo."
   ]
  },
  {
   "cell_type": "code",
   "execution_count": 14,
   "metadata": {},
   "outputs": [],
   "source": [
    "np.save('Whole body CoM data', df_t)"
   ]
  }
 ],
 "metadata": {
  "kernelspec": {
   "display_name": "Python 3",
   "language": "python",
   "name": "python3"
  },
  "language_info": {
   "codemirror_mode": {
    "name": "ipython",
    "version": 3
   },
   "file_extension": ".py",
   "mimetype": "text/x-python",
   "name": "python",
   "nbconvert_exporter": "python",
   "pygments_lexer": "ipython3",
   "version": "3.8.8"
  }
 },
 "nbformat": 4,
 "nbformat_minor": 4
}
