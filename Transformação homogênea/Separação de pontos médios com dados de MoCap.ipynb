{
 "cells": [
  {
   "cell_type": "markdown",
   "id": "c67333b5",
   "metadata": {},
   "source": [
    "# Separar os dados de ponto médio do quadril com dados de MoCap"
   ]
  },
  {
   "cell_type": "code",
   "execution_count": 2,
   "id": "9c186732",
   "metadata": {},
   "outputs": [
    {
     "name": "stdout",
     "output_type": "stream",
     "text": [
      "The autoreload extension is already loaded. To reload it, use:\n",
      "  %reload_ext autoreload\n",
      "[[[ 336.98776245   17.4847908  1559.65722656]\n",
      "  [ 307.49227905   20.96870995 1235.98718262]\n",
      "  [ 466.79177856   24.70891571 1497.18261719]\n",
      "  ...\n",
      "  [ 356.89865112 -166.20855713 1462.76721191]\n",
      "  [ 487.96240234 -695.30969238 1474.58483887]\n",
      "  [ 535.75872803  -89.18184662   11.15608311]]\n",
      "\n",
      " [[ 336.91867065   17.47442055 1559.62512207]\n",
      "  [ 307.44500732   20.97799873 1236.01245117]\n",
      "  [ 466.72747803   24.72114944 1497.20153809]\n",
      "  ...\n",
      "  [ 356.89349365 -166.20951843 1462.75097656]\n",
      "  [ 488.02035522 -695.31994629 1474.49694824]\n",
      "  [ 535.76281738  -89.28752136   11.33196163]]\n",
      "\n",
      " [[ 336.85165405   17.46774292 1559.61340332]\n",
      "  [ 307.38452148   20.97657204 1236.02563477]\n",
      "  [ 466.66177368   24.71905136 1497.2244873 ]\n",
      "  ...\n",
      "  [ 356.87591553 -166.23568726 1462.76635742]\n",
      "  [ 488.07287598 -695.32769775 1474.41381836]\n",
      "  [ 535.77148438  -89.28872681   11.34207153]]\n",
      "\n",
      " ...\n",
      "\n",
      " [[ 249.93983459   39.77682495 1558.72497559]\n",
      "  [ 218.27735901   54.44635391 1231.61975098]\n",
      "  [ 378.6506958    42.31341171 1481.25195312]\n",
      "  ...\n",
      "  [ 306.41937256 -178.26251221 1372.22790527]\n",
      "  [ 431.79516602 -148.35076904  880.42681885]\n",
      "  [ 445.30834961  -79.08763885   10.83769035]]\n",
      "\n",
      " [[ 249.9052887    39.73885345 1558.7355957 ]\n",
      "  [ 218.3188324    54.4423027  1231.60705566]\n",
      "  [ 378.47363281   42.16498184 1481.10180664]\n",
      "  ...\n",
      "  [ 306.47363281 -178.2865448  1372.25891113]\n",
      "  [ 431.89471436 -148.28422546  880.45904541]\n",
      "  [ 445.29592896  -79.09062195   10.8435564 ]]\n",
      "\n",
      " [[ 249.86930847   39.67763138 1558.73657227]\n",
      "  [ 218.33610535   54.38670731 1231.58044434]\n",
      "  [ 378.48937988   42.14324951 1481.15576172]\n",
      "  ...\n",
      "  [ 306.52597046 -178.33778381 1372.29199219]\n",
      "  [ 432.01174927 -148.23660278  880.5189209 ]\n",
      "  [ 445.32391357  -79.07792664   10.86656189]]]\n"
     ]
    }
   ],
   "source": [
    "from utils import *\n",
    "%load_ext autoreload\n",
    "%autoreload 2\n",
    "%matplotlib inline\n",
    "\n",
    "# File location\n",
    "\n",
    "v3d_filename = r'C:\\Users\\gusta\\OneDrive\\Documentos\\Users\\Gustavo Monteiro\\Documents\\GitHub\\MoVi-Toolbox\\MoCap\\F_v3d_Subject_15.mat'\n",
    "\n",
    "# Reading MoVi files as a Python dictionary\n",
    "sample = mat2dict(v3d_filename)\n",
    "\n",
    "# First move sample\n",
    "move = sample['move']\n",
    "\n",
    "move =dict2ntuple(move)\n",
    "\n",
    "print(move.markerLocation)"
   ]
  },
  {
   "cell_type": "markdown",
   "id": "0bd6d2e7",
   "metadata": {},
   "source": [
    "--> Salvar os dados no arquivo marker data"
   ]
  },
  {
   "cell_type": "code",
   "execution_count": 3,
   "id": "f9cd9ed7",
   "metadata": {},
   "outputs": [],
   "source": [
    "np.save('marker data', move.markerLocation)"
   ]
  },
  {
   "cell_type": "markdown",
   "id": "471b966d",
   "metadata": {},
   "source": [
    "--> Carregar os dados"
   ]
  },
  {
   "cell_type": "code",
   "execution_count": 4,
   "id": "e3bbc23e",
   "metadata": {},
   "outputs": [],
   "source": [
    "array = np.load('marker data.npy')"
   ]
  },
  {
   "cell_type": "markdown",
   "id": "5983e97e",
   "metadata": {},
   "source": [
    "--> Calcular os pontos médios e armazenar os dados em um dataframe"
   ]
  },
  {
   "cell_type": "code",
   "execution_count": 6,
   "id": "a76852dc",
   "metadata": {},
   "outputs": [
    {
     "data": {
      "text/html": [
       "<div>\n",
       "<style scoped>\n",
       "    .dataframe tbody tr th:only-of-type {\n",
       "        vertical-align: middle;\n",
       "    }\n",
       "\n",
       "    .dataframe tbody tr th {\n",
       "        vertical-align: top;\n",
       "    }\n",
       "\n",
       "    .dataframe thead th {\n",
       "        text-align: right;\n",
       "    }\n",
       "</style>\n",
       "<table border=\"1\" class=\"dataframe\">\n",
       "  <thead>\n",
       "    <tr style=\"text-align: right;\">\n",
       "      <th></th>\n",
       "      <th>X</th>\n",
       "      <th>Y</th>\n",
       "      <th>Z</th>\n",
       "    </tr>\n",
       "  </thead>\n",
       "  <tbody>\n",
       "    <tr>\n",
       "      <th>0</th>\n",
       "      <td>376.391708</td>\n",
       "      <td>22.871300</td>\n",
       "      <td>975.676544</td>\n",
       "    </tr>\n",
       "    <tr>\n",
       "      <th>1</th>\n",
       "      <td>376.373230</td>\n",
       "      <td>22.885738</td>\n",
       "      <td>975.683594</td>\n",
       "    </tr>\n",
       "    <tr>\n",
       "      <th>2</th>\n",
       "      <td>376.359344</td>\n",
       "      <td>22.907471</td>\n",
       "      <td>975.685211</td>\n",
       "    </tr>\n",
       "    <tr>\n",
       "      <th>3</th>\n",
       "      <td>376.381714</td>\n",
       "      <td>22.896675</td>\n",
       "      <td>975.652802</td>\n",
       "    </tr>\n",
       "    <tr>\n",
       "      <th>4</th>\n",
       "      <td>376.277695</td>\n",
       "      <td>22.877411</td>\n",
       "      <td>975.643372</td>\n",
       "    </tr>\n",
       "    <tr>\n",
       "      <th>...</th>\n",
       "      <td>...</td>\n",
       "      <td>...</td>\n",
       "      <td>...</td>\n",
       "    </tr>\n",
       "    <tr>\n",
       "      <th>17841</th>\n",
       "      <td>290.633636</td>\n",
       "      <td>52.762039</td>\n",
       "      <td>978.335938</td>\n",
       "    </tr>\n",
       "    <tr>\n",
       "      <th>17842</th>\n",
       "      <td>290.668442</td>\n",
       "      <td>52.771891</td>\n",
       "      <td>978.338013</td>\n",
       "    </tr>\n",
       "    <tr>\n",
       "      <th>17843</th>\n",
       "      <td>290.726730</td>\n",
       "      <td>52.753082</td>\n",
       "      <td>978.333282</td>\n",
       "    </tr>\n",
       "    <tr>\n",
       "      <th>17844</th>\n",
       "      <td>290.770691</td>\n",
       "      <td>52.762125</td>\n",
       "      <td>978.340973</td>\n",
       "    </tr>\n",
       "    <tr>\n",
       "      <th>17845</th>\n",
       "      <td>290.808945</td>\n",
       "      <td>52.772110</td>\n",
       "      <td>978.350800</td>\n",
       "    </tr>\n",
       "  </tbody>\n",
       "</table>\n",
       "<p>17846 rows × 3 columns</p>\n",
       "</div>"
      ],
      "text/plain": [
       "                X          Y           Z\n",
       "0      376.391708  22.871300  975.676544\n",
       "1      376.373230  22.885738  975.683594\n",
       "2      376.359344  22.907471  975.685211\n",
       "3      376.381714  22.896675  975.652802\n",
       "4      376.277695  22.877411  975.643372\n",
       "...           ...        ...         ...\n",
       "17841  290.633636  52.762039  978.335938\n",
       "17842  290.668442  52.771891  978.338013\n",
       "17843  290.726730  52.753082  978.333282\n",
       "17844  290.770691  52.762125  978.340973\n",
       "17845  290.808945  52.772110  978.350800\n",
       "\n",
       "[17846 rows x 3 columns]"
      ]
     },
     "execution_count": 6,
     "metadata": {},
     "output_type": "execute_result"
    }
   ],
   "source": [
    "import cv2\n",
    "import numpy as np\n",
    "from numpy import asarray\n",
    "from numpy import save\n",
    "import pandas as pd\n",
    "import matplotlib.pyplot as plt\n",
    "import seaborn; seaborn.set()\n",
    "\n",
    "left_hip_joint = array[:,73, :]\n",
    "right_hip_joint = array[:,81,:]\n",
    "\n",
    "pmx = (left_hip_joint[:,0] + right_hip_joint[:,0])*0.5\n",
    "pmy = (left_hip_joint[:,1] + right_hip_joint[:,1])*0.5\n",
    "pmz = (left_hip_joint[:,2] + right_hip_joint[:,2])*0.5\n",
    "\n",
    "pm = np.array([pmx, pmy, pmz])\n",
    "\n",
    "df = pd.DataFrame(pm,\n",
    "                 index=['X', 'Y', 'Z'])\n",
    "\n",
    "df_t = df.T\n",
    "\n",
    "df_t"
   ]
  },
  {
   "cell_type": "markdown",
   "id": "702609e2",
   "metadata": {},
   "source": [
    "--> Salvar no arquivo Origin data. Foi dado esse nome pois o ponto médio dos quadris no Blaze Pose representa a origem do sistema."
   ]
  },
  {
   "cell_type": "code",
   "execution_count": 9,
   "id": "27cebf0a",
   "metadata": {},
   "outputs": [],
   "source": [
    "np.save('Origin data', df_t)"
   ]
  },
  {
   "cell_type": "markdown",
   "id": "542827ff",
   "metadata": {},
   "source": [
    "--> Rode os códigos abaixo para chegar ao dataframe com os dados dos pontos médios para todos os frames."
   ]
  },
  {
   "cell_type": "code",
   "execution_count": 10,
   "id": "dd989c42",
   "metadata": {},
   "outputs": [],
   "source": [
    "import os\n",
    "import collections\n",
    "import re\n",
    "import cv2\n",
    "\n",
    "import numpy as np\n",
    "import pandas as pd\n",
    "import math\n",
    "import matplotlib.pyplot as plt\n",
    "import scipy.io as sio\n",
    "import scipy.signal as signal\n",
    "from pathlib import Path\n",
    "from sources_cv2 import defineStartEnd, count_frames\n"
   ]
  },
  {
   "cell_type": "code",
   "execution_count": 11,
   "id": "ba53d224",
   "metadata": {},
   "outputs": [],
   "source": [
    "# Caminho onde estão os dados .mat\n",
    "caminho = r'C:\\\\Users\\\\gusta\\\\OneDrive\\\\Documentos\\\\Users\\\\Gustavo Monteiro\\\\Documents\\\\GitHub\\\\MoVi-Toolbox\\\\MoCap\\\\'"
   ]
  },
  {
   "cell_type": "code",
   "execution_count": 12,
   "id": "a444bb8b",
   "metadata": {},
   "outputs": [],
   "source": [
    "# Número do arquivo do voluntário, alterar apenas o número\n",
    "\n",
    "''' Alterar o número do sujeito analisado'''\n",
    "\n",
    "voluntary = 15"
   ]
  },
  {
   "cell_type": "code",
   "execution_count": 13,
   "id": "02944a3e",
   "metadata": {},
   "outputs": [],
   "source": [
    "voluntary = str(voluntary)\n",
    "v3d_filename = caminho + 'F_v3d_Subject_' + voluntary + '.mat'"
   ]
  },
  {
   "cell_type": "code",
   "execution_count": 14,
   "id": "d3eed2ed",
   "metadata": {},
   "outputs": [],
   "source": [
    "array = np.load('Origin data.npy')"
   ]
  },
  {
   "cell_type": "code",
   "execution_count": 15,
   "id": "a377d379",
   "metadata": {},
   "outputs": [],
   "source": [
    "Data = array\n",
    "name_description = move.motions_list\n",
    "data_complete = pd.DataFrame(Data,\n",
    "                           columns = ['X', 'Y', 'Z'])"
   ]
  },
  {
   "cell_type": "code",
   "execution_count": 16,
   "id": "adf24c74",
   "metadata": {},
   "outputs": [],
   "source": [
    "video_path = r'C:\\\\Users\\\\gusta\\\\OneDrive\\\\Documentos\\\\Users\\\\Gustavo Monteiro\\\\Documents\\\\GitHub\\\\MoVi-Toolbox\\\\MoCap\\\\'\n",
    "\n",
    "video_F = 'F'"
   ]
  },
  {
   "cell_type": "code",
   "execution_count": 17,
   "id": "65e199bf",
   "metadata": {},
   "outputs": [],
   "source": [
    "# Frequencia dos dados\n",
    "\n",
    "video_name = video_path + video_F + '_PG1_Subject_' + voluntary + '_L.avi'\n",
    "\n",
    "freq_MoCap = 120\n",
    "n_frames, fps = count_frames(video_name)"
   ]
  },
  {
   "cell_type": "code",
   "execution_count": 17,
   "id": "fdff54f0",
   "metadata": {},
   "outputs": [],
   "source": [
    "min_init_video = 1  \n",
    "seg_init_video = 55\n",
    "\n",
    "aprox_init_video = int(((min_init_video * 60) + seg_init_video) * fps)"
   ]
  },
  {
   "cell_type": "code",
   "execution_count": 18,
   "id": "9dc3f7af",
   "metadata": {},
   "outputs": [
    {
     "name": "stdout",
     "output_type": "stream",
     "text": [
      "[3463, 0]\n",
      "[3463, 3503]\n"
     ]
    }
   ],
   "source": [
    "start_end = defineStartEnd(video_name, n_frames, aprox_init_video)"
   ]
  },
  {
   "cell_type": "code",
   "execution_count": 19,
   "id": "8a85dc69",
   "metadata": {},
   "outputs": [],
   "source": [
    "frame_start = start_end[0]\n",
    "frame_end = start_end[1]\n",
    "\n",
    "temp_start = frame_start / fps\n",
    "MOCAP_start = int(temp_start * freq_MoCap)\n",
    "\n",
    "temp_end = frame_end / fps\n",
    "MOCAP_end = int(temp_end * freq_MoCap)\n",
    "\n",
    "data_pm = data_complete.iloc[MOCAP_start:MOCAP_end + 1,:]"
   ]
  },
  {
   "cell_type": "code",
   "execution_count": 20,
   "id": "b4c91837",
   "metadata": {},
   "outputs": [
    {
     "data": {
      "text/html": [
       "<div>\n",
       "<style scoped>\n",
       "    .dataframe tbody tr th:only-of-type {\n",
       "        vertical-align: middle;\n",
       "    }\n",
       "\n",
       "    .dataframe tbody tr th {\n",
       "        vertical-align: top;\n",
       "    }\n",
       "\n",
       "    .dataframe thead th {\n",
       "        text-align: right;\n",
       "    }\n",
       "</style>\n",
       "<table border=\"1\" class=\"dataframe\">\n",
       "  <thead>\n",
       "    <tr style=\"text-align: right;\">\n",
       "      <th></th>\n",
       "      <th>X</th>\n",
       "      <th>Y</th>\n",
       "      <th>Z</th>\n",
       "    </tr>\n",
       "  </thead>\n",
       "  <tbody>\n",
       "    <tr>\n",
       "      <th>13852</th>\n",
       "      <td>1015.728394</td>\n",
       "      <td>1100.592163</td>\n",
       "      <td>955.580170</td>\n",
       "    </tr>\n",
       "    <tr>\n",
       "      <th>13853</th>\n",
       "      <td>1018.811432</td>\n",
       "      <td>1093.375122</td>\n",
       "      <td>954.166687</td>\n",
       "    </tr>\n",
       "    <tr>\n",
       "      <th>13854</th>\n",
       "      <td>1021.897308</td>\n",
       "      <td>1086.352417</td>\n",
       "      <td>952.833069</td>\n",
       "    </tr>\n",
       "    <tr>\n",
       "      <th>13855</th>\n",
       "      <td>1024.911072</td>\n",
       "      <td>1079.041016</td>\n",
       "      <td>951.384247</td>\n",
       "    </tr>\n",
       "    <tr>\n",
       "      <th>13856</th>\n",
       "      <td>1028.022278</td>\n",
       "      <td>1071.547974</td>\n",
       "      <td>950.097504</td>\n",
       "    </tr>\n",
       "    <tr>\n",
       "      <th>...</th>\n",
       "      <td>...</td>\n",
       "      <td>...</td>\n",
       "      <td>...</td>\n",
       "    </tr>\n",
       "    <tr>\n",
       "      <th>14008</th>\n",
       "      <td>979.134521</td>\n",
       "      <td>-325.063782</td>\n",
       "      <td>939.651917</td>\n",
       "    </tr>\n",
       "    <tr>\n",
       "      <th>14009</th>\n",
       "      <td>978.134888</td>\n",
       "      <td>-334.936111</td>\n",
       "      <td>939.325958</td>\n",
       "    </tr>\n",
       "    <tr>\n",
       "      <th>14010</th>\n",
       "      <td>976.841980</td>\n",
       "      <td>-344.724213</td>\n",
       "      <td>938.876709</td>\n",
       "    </tr>\n",
       "    <tr>\n",
       "      <th>14011</th>\n",
       "      <td>975.315613</td>\n",
       "      <td>-354.700302</td>\n",
       "      <td>939.001770</td>\n",
       "    </tr>\n",
       "    <tr>\n",
       "      <th>14012</th>\n",
       "      <td>973.950134</td>\n",
       "      <td>-364.133896</td>\n",
       "      <td>939.988251</td>\n",
       "    </tr>\n",
       "  </tbody>\n",
       "</table>\n",
       "<p>161 rows × 3 columns</p>\n",
       "</div>"
      ],
      "text/plain": [
       "                 X            Y           Z\n",
       "13852  1015.728394  1100.592163  955.580170\n",
       "13853  1018.811432  1093.375122  954.166687\n",
       "13854  1021.897308  1086.352417  952.833069\n",
       "13855  1024.911072  1079.041016  951.384247\n",
       "13856  1028.022278  1071.547974  950.097504\n",
       "...            ...          ...         ...\n",
       "14008   979.134521  -325.063782  939.651917\n",
       "14009   978.134888  -334.936111  939.325958\n",
       "14010   976.841980  -344.724213  938.876709\n",
       "14011   975.315613  -354.700302  939.001770\n",
       "14012   973.950134  -364.133896  939.988251\n",
       "\n",
       "[161 rows x 3 columns]"
      ]
     },
     "execution_count": 20,
     "metadata": {},
     "output_type": "execute_result"
    }
   ],
   "source": [
    "data_pm"
   ]
  },
  {
   "cell_type": "code",
   "execution_count": null,
   "id": "eabe3468",
   "metadata": {},
   "outputs": [],
   "source": []
  }
 ],
 "metadata": {
  "kernelspec": {
   "display_name": "Python 3",
   "language": "python",
   "name": "python3"
  },
  "language_info": {
   "codemirror_mode": {
    "name": "ipython",
    "version": 3
   },
   "file_extension": ".py",
   "mimetype": "text/x-python",
   "name": "python",
   "nbconvert_exporter": "python",
   "pygments_lexer": "ipython3",
   "version": "3.8.8"
  }
 },
 "nbformat": 4,
 "nbformat_minor": 5
}
